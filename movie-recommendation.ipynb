{
 "cells": [
  {
   "cell_type": "code",
   "execution_count": 1,
   "id": "3cc8d23d",
   "metadata": {
    "execution": {
     "iopub.execute_input": "2025-03-09T09:11:22.953799Z",
     "iopub.status.busy": "2025-03-09T09:11:22.953411Z",
     "iopub.status.idle": "2025-03-09T09:11:23.429471Z",
     "shell.execute_reply": "2025-03-09T09:11:23.428434Z"
    },
    "papermill": {
     "duration": 0.482978,
     "end_time": "2025-03-09T09:11:23.430914",
     "exception": false,
     "start_time": "2025-03-09T09:11:22.947936",
     "status": "completed"
    },
    "tags": []
   },
   "outputs": [
    {
     "name": "stdout",
     "output_type": "stream",
     "text": [
      "Path to dataset files: /kaggle/input/movies\n"
     ]
    }
   ],
   "source": [
    "import kagglehub\n",
    "\n",
    "# Download latest version\n",
    "path = kagglehub.dataset_download(\"hadeeniyaf/movies\")\n",
    "\n",
    "print(\"Path to dataset files:\", path)"
   ]
  },
  {
   "cell_type": "code",
   "execution_count": 2,
   "id": "86664ff2",
   "metadata": {
    "execution": {
     "iopub.execute_input": "2025-03-09T09:11:23.438321Z",
     "iopub.status.busy": "2025-03-09T09:11:23.437962Z",
     "iopub.status.idle": "2025-03-09T09:11:24.527237Z",
     "shell.execute_reply": "2025-03-09T09:11:24.525858Z"
    },
    "executionInfo": {
     "elapsed": 221,
     "status": "ok",
     "timestamp": 1741450835563,
     "user": {
      "displayName": "Hadee Niyaf",
      "userId": "02645298579909060450"
     },
     "user_tz": -330
    },
    "id": "d6P_DhXSZJ8O",
    "outputId": "3fe2986f-28e8-47c2-b959-8d7b9397a5ad",
    "papermill": {
     "duration": 1.095099,
     "end_time": "2025-03-09T09:11:24.529314",
     "exception": false,
     "start_time": "2025-03-09T09:11:23.434215",
     "status": "completed"
    },
    "tags": []
   },
   "outputs": [
    {
     "name": "stdout",
     "output_type": "stream",
     "text": [
      "   movieId                               title  \\\n",
      "0        1                    Toy Story (1995)   \n",
      "1        2                      Jumanji (1995)   \n",
      "2        3             Grumpier Old Men (1995)   \n",
      "3        4            Waiting to Exhale (1995)   \n",
      "4        5  Father of the Bride Part II (1995)   \n",
      "\n",
      "                                        genres  \n",
      "0  Adventure|Animation|Children|Comedy|Fantasy  \n",
      "1                   Adventure|Children|Fantasy  \n",
      "2                               Comedy|Romance  \n",
      "3                         Comedy|Drama|Romance  \n",
      "4                                       Comedy  \n",
      "   userId  movieId  rating   timestamp\n",
      "0       1      296     5.0  1147880044\n",
      "1       1      306     3.5  1147868817\n",
      "2       1      307     5.0  1147868828\n",
      "3       1      665     5.0  1147878820\n",
      "4       1      899     3.5  1147868510\n"
     ]
    }
   ],
   "source": [
    "import pandas as pd\n",
    "\n",
    "# Load the datasets\n",
    "movies = pd.read_csv(\"/kaggle/input/movies/movies.csv\",nrows=100000)\n",
    "ratings = pd.read_csv(\"/kaggle/input/movies/ratings.csv\",nrows=100000)\n",
    "\n",
    "# Display first few rows\n",
    "print(movies.head())\n",
    "print(ratings.head())\n"
   ]
  },
  {
   "cell_type": "markdown",
   "id": "a0a77332",
   "metadata": {
    "papermill": {
     "duration": 0.0025,
     "end_time": "2025-03-09T09:11:24.535311",
     "exception": false,
     "start_time": "2025-03-09T09:11:24.532811",
     "status": "completed"
    },
    "tags": []
   },
   "source": [
    "**Transforming data**"
   ]
  },
  {
   "cell_type": "markdown",
   "id": "562d2e1e",
   "metadata": {
    "id": "QGeoHXexbDSG",
    "papermill": {
     "duration": 0.002366,
     "end_time": "2025-03-09T09:11:24.540339",
     "exception": false,
     "start_time": "2025-03-09T09:11:24.537973",
     "status": "completed"
    },
    "tags": []
   },
   "source": [
    "Popularity-Based Recommendation (Top Rated & Most Rated)"
   ]
  },
  {
   "cell_type": "code",
   "execution_count": 3,
   "id": "3eeaa00c",
   "metadata": {
    "execution": {
     "iopub.execute_input": "2025-03-09T09:11:24.546739Z",
     "iopub.status.busy": "2025-03-09T09:11:24.546394Z",
     "iopub.status.idle": "2025-03-09T09:11:24.590869Z",
     "shell.execute_reply": "2025-03-09T09:11:24.589797Z"
    },
    "executionInfo": {
     "elapsed": 1659,
     "status": "ok",
     "timestamp": 1741414984951,
     "user": {
      "displayName": "Hadee Niyaf",
      "userId": "02645298579909060450"
     },
     "user_tz": -330
    },
    "id": "ZBLUQ9Ioa-U0",
    "outputId": "26b1a792-f664-4f11-b2ba-56dc2d01395b",
    "papermill": {
     "duration": 0.049187,
     "end_time": "2025-03-09T09:11:24.592157",
     "exception": false,
     "start_time": "2025-03-09T09:11:24.542970",
     "status": "completed"
    },
    "tags": []
   },
   "outputs": [
    {
     "name": "stdout",
     "output_type": "stream",
     "text": [
      "                                          title  num_ratings  avg_rating\n",
      "314                         Forrest Gump (1994)          370    4.072973\n",
      "259                         Pulp Fiction (1994)          363    4.162534\n",
      "279            Shawshank Redemption, The (1994)          352    4.414773\n",
      "510            Silence of the Lambs, The (1991)          325    4.189231\n",
      "1911                         Matrix, The (1999)          315    4.169841\n",
      "417                        Jurassic Park (1993)          300    3.705000\n",
      "228   Star Wars: Episode IV - A New Hope (1977)          292    4.183219\n",
      "459                     Schindler's List (1993)          280    4.339286\n",
      "99                            Braveheart (1995)          267    4.080524\n",
      "507           Terminator 2: Judgment Day (1991)          255    3.972549\n"
     ]
    }
   ],
   "source": [
    "# Calculate average rating for each movie\n",
    "movie_avg_rating = ratings.groupby('movieId')['rating'].mean().reset_index()\n",
    "movie_avg_rating.columns = ['movieId', 'avg_rating']\n",
    "\n",
    "# Count number of ratings per movie\n",
    "movie_ratings_count = ratings.groupby('movieId').count()['rating'].reset_index()\n",
    "movie_ratings_count.columns = ['movieId', 'num_ratings']\n",
    "# Merge with movies\n",
    "movies = movies.merge(movie_avg_rating, on='movieId')\n",
    "movies = movies.merge(movie_ratings_count, on='movieId')\n",
    "# Get top 10 popular movies\n",
    "top_movies = movies.sort_values(by=['num_ratings', 'avg_rating'], ascending=[False, False])\n",
    "print(top_movies[['title', 'num_ratings', 'avg_rating']].head(10))"
   ]
  },
  {
   "cell_type": "markdown",
   "id": "0628f5c0",
   "metadata": {
    "papermill": {
     "duration": 0.00258,
     "end_time": "2025-03-09T09:11:24.597819",
     "exception": false,
     "start_time": "2025-03-09T09:11:24.595239",
     "status": "completed"
    },
    "tags": []
   },
   "source": [
    "installing package if needed"
   ]
  },
  {
   "cell_type": "code",
   "execution_count": 4,
   "id": "0b0553b7",
   "metadata": {
    "execution": {
     "iopub.execute_input": "2025-03-09T09:11:24.604100Z",
     "iopub.status.busy": "2025-03-09T09:11:24.603808Z",
     "iopub.status.idle": "2025-03-09T09:11:29.287982Z",
     "shell.execute_reply": "2025-03-09T09:11:29.286607Z"
    },
    "executionInfo": {
     "elapsed": 72880,
     "status": "ok",
     "timestamp": 1741413559457,
     "user": {
      "displayName": "Hadee Niyaf",
      "userId": "02645298579909060450"
     },
     "user_tz": -330
    },
    "id": "xzjM4th_bbAV",
    "outputId": "314d129a-0956-4ab5-bb9c-72a336be7f4a",
    "papermill": {
     "duration": 4.689821,
     "end_time": "2025-03-09T09:11:29.290336",
     "exception": false,
     "start_time": "2025-03-09T09:11:24.600515",
     "status": "completed"
    },
    "tags": []
   },
   "outputs": [
    {
     "name": "stdout",
     "output_type": "stream",
     "text": [
      "Requirement already satisfied: scikit-surprise in /usr/local/lib/python3.10/dist-packages (1.1.4)\r\n",
      "Requirement already satisfied: joblib>=1.2.0 in /usr/local/lib/python3.10/dist-packages (from scikit-surprise) (1.4.2)\r\n",
      "Requirement already satisfied: numpy>=1.19.5 in /usr/local/lib/python3.10/dist-packages (from scikit-surprise) (1.26.4)\r\n",
      "Requirement already satisfied: scipy>=1.6.0 in /usr/local/lib/python3.10/dist-packages (from scikit-surprise) (1.13.1)\r\n",
      "Requirement already satisfied: mkl_fft in /usr/local/lib/python3.10/dist-packages (from numpy>=1.19.5->scikit-surprise) (1.3.8)\r\n",
      "Requirement already satisfied: mkl_random in /usr/local/lib/python3.10/dist-packages (from numpy>=1.19.5->scikit-surprise) (1.2.4)\r\n",
      "Requirement already satisfied: mkl_umath in /usr/local/lib/python3.10/dist-packages (from numpy>=1.19.5->scikit-surprise) (0.1.1)\r\n",
      "Requirement already satisfied: mkl in /usr/local/lib/python3.10/dist-packages (from numpy>=1.19.5->scikit-surprise) (2025.0.1)\r\n",
      "Requirement already satisfied: tbb4py in /usr/local/lib/python3.10/dist-packages (from numpy>=1.19.5->scikit-surprise) (2022.0.0)\r\n",
      "Requirement already satisfied: mkl-service in /usr/local/lib/python3.10/dist-packages (from numpy>=1.19.5->scikit-surprise) (2.4.1)\r\n",
      "Requirement already satisfied: intel-openmp>=2024 in /usr/local/lib/python3.10/dist-packages (from mkl->numpy>=1.19.5->scikit-surprise) (2024.2.0)\r\n",
      "Requirement already satisfied: tbb==2022.* in /usr/local/lib/python3.10/dist-packages (from mkl->numpy>=1.19.5->scikit-surprise) (2022.0.0)\r\n",
      "Requirement already satisfied: tcmlib==1.* in /usr/local/lib/python3.10/dist-packages (from tbb==2022.*->mkl->numpy>=1.19.5->scikit-surprise) (1.2.0)\r\n",
      "Requirement already satisfied: intel-cmplr-lib-rt in /usr/local/lib/python3.10/dist-packages (from mkl_umath->numpy>=1.19.5->scikit-surprise) (2024.2.0)\r\n",
      "Requirement already satisfied: intel-cmplr-lib-ur==2024.2.0 in /usr/local/lib/python3.10/dist-packages (from intel-openmp>=2024->mkl->numpy>=1.19.5->scikit-surprise) (2024.2.0)\r\n"
     ]
    }
   ],
   "source": [
    "!pip install scikit-surprise"
   ]
  },
  {
   "cell_type": "markdown",
   "id": "f4fdd172",
   "metadata": {
    "papermill": {
     "duration": 0.002617,
     "end_time": "2025-03-09T09:11:29.296448",
     "exception": false,
     "start_time": "2025-03-09T09:11:29.293831",
     "status": "completed"
    },
    "tags": []
   },
   "source": [
    "**SVD Model training** (collaborative filtering)"
   ]
  },
  {
   "cell_type": "code",
   "execution_count": 5,
   "id": "fc844d4d",
   "metadata": {
    "execution": {
     "iopub.execute_input": "2025-03-09T09:11:29.303308Z",
     "iopub.status.busy": "2025-03-09T09:11:29.302925Z",
     "iopub.status.idle": "2025-03-09T09:11:30.663164Z",
     "shell.execute_reply": "2025-03-09T09:11:30.662164Z"
    },
    "executionInfo": {
     "elapsed": 452748,
     "status": "ok",
     "timestamp": 1741415446131,
     "user": {
      "displayName": "Hadee Niyaf",
      "userId": "02645298579909060450"
     },
     "user_tz": -330
    },
    "id": "k1FiAy6ucIov",
    "outputId": "6ceb1e6f-cf72-4ca0-88fa-70f9238d0900",
    "papermill": {
     "duration": 1.365884,
     "end_time": "2025-03-09T09:11:30.665115",
     "exception": false,
     "start_time": "2025-03-09T09:11:29.299231",
     "status": "completed"
    },
    "tags": []
   },
   "outputs": [
    {
     "name": "stdout",
     "output_type": "stream",
     "text": [
      "Predicted Rating: 4.351308029870295\n"
     ]
    }
   ],
   "source": [
    "from surprise import Dataset, Reader, SVD\n",
    "from surprise.model_selection import train_test_split, cross_validate\n",
    "\n",
    "# Prepare data\n",
    "reader = Reader(rating_scale=(0.5, 5.0))\n",
    "data = Dataset.load_from_df(ratings[['userId', 'movieId', 'rating']], reader)\n",
    "trainset, testset = train_test_split(data, test_size=0.2)\n",
    "\n",
    "# Train model\n",
    "svd = SVD()\n",
    "svd.fit(trainset)\n",
    "\n",
    "# Make prediction for a user\n",
    "pred = svd.predict(uid=1, iid=50)\n",
    "print(f\"Predicted Rating: {pred.est}\")\n"
   ]
  },
  {
   "cell_type": "markdown",
   "id": "5dbd0ba1",
   "metadata": {
    "papermill": {
     "duration": 0.002837,
     "end_time": "2025-03-09T09:11:30.671784",
     "exception": false,
     "start_time": "2025-03-09T09:11:30.668947",
     "status": "completed"
    },
    "tags": []
   },
   "source": [
    "**Applying TF-IDF and cosine similarities for Genre**"
   ]
  },
  {
   "cell_type": "code",
   "execution_count": 6,
   "id": "b980f492",
   "metadata": {
    "execution": {
     "iopub.execute_input": "2025-03-09T09:11:30.679494Z",
     "iopub.status.busy": "2025-03-09T09:11:30.679002Z",
     "iopub.status.idle": "2025-03-09T09:11:33.287199Z",
     "shell.execute_reply": "2025-03-09T09:11:33.286223Z"
    },
    "id": "IadAFu5kcxwG",
    "papermill": {
     "duration": 2.613905,
     "end_time": "2025-03-09T09:11:33.288811",
     "exception": false,
     "start_time": "2025-03-09T09:11:30.674906",
     "status": "completed"
    },
    "tags": []
   },
   "outputs": [],
   "source": [
    "from sklearn.metrics.pairwise import cosine_similarity\n",
    "from sklearn.feature_extraction.text import TfidfVectorizer\n",
    "\n",
    "# Convert genres back to strings\n",
    "movies['genres_str'] = movies['genres'].apply(lambda x: ' '.join(x) if isinstance(x, list) else 'Unknown')\n",
    "\n",
    "# Compute TF-IDF for genres\n",
    "tfidf = TfidfVectorizer(stop_words='english')\n",
    "tfidf_matrix = tfidf.fit_transform(movies['genres_str'])\n",
    "\n",
    "# Compute similarity\n",
    "cosine_sim = cosine_similarity(tfidf_matrix, tfidf_matrix)\n"
   ]
  },
  {
   "cell_type": "markdown",
   "id": "77e40e36",
   "metadata": {
    "papermill": {
     "duration": 0.003064,
     "end_time": "2025-03-09T09:11:33.296441",
     "exception": false,
     "start_time": "2025-03-09T09:11:33.293377",
     "status": "completed"
    },
    "tags": []
   },
   "source": [
    "**Recommandation Function**"
   ]
  },
  {
   "cell_type": "code",
   "execution_count": 7,
   "id": "e28e7f42",
   "metadata": {
    "execution": {
     "iopub.execute_input": "2025-03-09T09:11:33.303765Z",
     "iopub.status.busy": "2025-03-09T09:11:33.303292Z",
     "iopub.status.idle": "2025-03-09T09:11:33.310033Z",
     "shell.execute_reply": "2025-03-09T09:11:33.308968Z"
    },
    "id": "gX8yqr-klB_v",
    "papermill": {
     "duration": 0.01247,
     "end_time": "2025-03-09T09:11:33.311978",
     "exception": false,
     "start_time": "2025-03-09T09:11:33.299508",
     "status": "completed"
    },
    "tags": []
   },
   "outputs": [],
   "source": [
    "def get_recommendations(user_id, top_n=10):\n",
    "    # Get all unique movieIds\n",
    "    all_movie_ids = movies[\"movieId\"].unique()\n",
    "\n",
    "    # Predict rating for each movie for the given user\n",
    "    predictions = []\n",
    "    for movie_id in all_movie_ids:\n",
    "        prediction = svd.predict(user_id, movie_id)\n",
    "        predictions.append((movie_id, prediction.est))\n",
    "\n",
    "    # Sort movies based on predicted rating\n",
    "    predictions.sort(key=lambda x: x[1], reverse=True)\n",
    "\n",
    "    # Convert predictions to DataFrame\n",
    "    recommended_movies = pd.DataFrame(predictions[:top_n], columns=['movieId', 'predicted_rating'])\n",
    "\n",
    "    # Merge with movie titles\n",
    "    recommended_movies = recommended_movies.merge(movies, on='movieId', how='left')\n",
    "\n",
    "    return recommended_movies\n"
   ]
  },
  {
   "cell_type": "markdown",
   "id": "cd678013",
   "metadata": {
    "papermill": {
     "duration": 0.002885,
     "end_time": "2025-03-09T09:11:33.318339",
     "exception": false,
     "start_time": "2025-03-09T09:11:33.315454",
     "status": "completed"
    },
    "tags": []
   },
   "source": [
    "**Genrating Recommendation for all user and creating a dataframe**"
   ]
  },
  {
   "cell_type": "code",
   "execution_count": 8,
   "id": "98b3cf7e",
   "metadata": {
    "execution": {
     "iopub.execute_input": "2025-03-09T09:11:33.325509Z",
     "iopub.status.busy": "2025-03-09T09:11:33.325190Z",
     "iopub.status.idle": "2025-03-09T09:12:10.098056Z",
     "shell.execute_reply": "2025-03-09T09:12:10.096810Z"
    },
    "executionInfo": {
     "elapsed": 40801,
     "status": "ok",
     "timestamp": 1741414827009,
     "user": {
      "displayName": "Hadee Niyaf",
      "userId": "02645298579909060450"
     },
     "user_tz": -330
    },
    "id": "w2y2_4neXExd",
    "outputId": "a2b2b58c-ec25-4eef-d86f-38647df4cd1d",
    "papermill": {
     "duration": 36.780144,
     "end_time": "2025-03-09T09:12:10.101477",
     "exception": false,
     "start_time": "2025-03-09T09:11:33.321333",
     "status": "completed"
    },
    "tags": []
   },
   "outputs": [
    {
     "name": "stdout",
     "output_type": "stream",
     "text": [
      "All user recommendations CSV generated successfully!\n"
     ]
    }
   ],
   "source": [
    "# Generate Recommendations for ALL USERS\n",
    "all_recommendations = []\n",
    "\n",
    "# Loop through every user in the dataset\n",
    "for user_id in ratings['userId'].unique():\n",
    "    # Get recommendations for each user\n",
    "    recommendations = get_recommendations(user_id, top_n=10)\n",
    "    recommendations['userId'] = user_id\n",
    "    all_recommendations.append(recommendations)\n",
    "\n",
    "# Combine all user recommendations\n",
    "all_recommendations_df = pd.concat(all_recommendations, ignore_index=True)\n",
    "\n",
    "# Save to CSV\n",
    "all_recommendations_df.to_csv('/content/recommendations_all_users.csv', index=False)\n",
    "\n",
    "print(\"All user recommendations CSV generated successfully!\")\n"
   ]
  },
  {
   "cell_type": "markdown",
   "id": "23cb938a",
   "metadata": {
    "papermill": {
     "duration": 0.002658,
     "end_time": "2025-03-09T09:12:10.107198",
     "exception": false,
     "start_time": "2025-03-09T09:12:10.104540",
     "status": "completed"
    },
    "tags": []
   },
   "source": [
    "For presenting the recommendation system use visualizing tools like power Bi or tableau by downloading the csv file. Visualizing in these tools make the recommendation system much more attractive easier.\n"
   ]
  }
 ],
 "metadata": {
  "accelerator": "GPU",
  "colab": {
   "authorship_tag": "ABX9TyNA8DOKenXqpIy22UwnokHP",
   "gpuType": "T4",
   "mount_file_id": "1AmldXRiKZUHCW2CaAztwcz_tqaBfGPYc",
   "provenance": []
  },
  "kaggle": {
   "accelerator": "none",
   "dataSources": [
    {
     "datasetId": 6824197,
     "sourceId": 10967990,
     "sourceType": "datasetVersion"
    }
   ],
   "dockerImageVersionId": 30918,
   "isGpuEnabled": false,
   "isInternetEnabled": false,
   "language": "python",
   "sourceType": "notebook"
  },
  "kernelspec": {
   "display_name": "Python 3",
   "language": "python",
   "name": "python3"
  },
  "language_info": {
   "codemirror_mode": {
    "name": "ipython",
    "version": 3
   },
   "file_extension": ".py",
   "mimetype": "text/x-python",
   "name": "python",
   "nbconvert_exporter": "python",
   "pygments_lexer": "ipython3",
   "version": "3.10.12"
  },
  "papermill": {
   "default_parameters": {},
   "duration": 50.266148,
   "end_time": "2025-03-09T09:12:10.931013",
   "environment_variables": {},
   "exception": null,
   "input_path": "__notebook__.ipynb",
   "output_path": "__notebook__.ipynb",
   "parameters": {},
   "start_time": "2025-03-09T09:11:20.664865",
   "version": "2.6.0"
  }
 },
 "nbformat": 4,
 "nbformat_minor": 5
}
